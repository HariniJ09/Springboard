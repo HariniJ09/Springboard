{
 "cells": [
  {
   "cell_type": "code",
   "execution_count": null,
   "metadata": {},
   "outputs": [],
   "source": [
    "df['dayofweek'] = pd.Categorical(df['dayofweek'], ordered=True, categories=[\"Monday\",\"Tuesday\",...])\n",
    "df.dayofweek.cat.categories\n",
    "\n",
    "for day in days:\n",
    "    df[df.dayofweek == day].timeofday.plot(kind='density')\n",
    "plt.legend(days)"
   ]
  },
  {
   "cell_type": "code",
   "execution_count": 1,
   "metadata": {},
   "outputs": [],
   "source": [
    "#In conda cmdline> conda install BeautifulSoup4\n",
    "\n",
    "from bs4 import BeautifulSoup\n"
   ]
  },
  {
   "cell_type": "code",
   "execution_count": 3,
   "metadata": {},
   "outputs": [],
   "source": [
    "import pandas as pd\n",
    "import seaborn as sns\n",
    "import matplotlib.pyplot as plt\n",
    "import requests\n"
   ]
  },
  {
   "cell_type": "code",
   "execution_count": 4,
   "metadata": {},
   "outputs": [
    {
     "name": "stderr",
     "output_type": "stream",
     "text": [
      "C:\\Users\\harid\\.conda\\envs\\TestEnv\\lib\\site-packages\\IPython\\core\\interactiveshell.py:3051: DtypeWarning: Columns (0) have mixed types. Specify dtype option on import or set low_memory=False.\n",
      "  interactivity=interactivity, compiler=compiler, result=result)\n"
     ]
    }
   ],
   "source": [
    "veh_df = pd.read_csv('http://data.dft.gov.uk/road-accidents-safety-data/dftRoadSafetyData_Vehicles_2018.csv')\n",
    "cas_df = pd.read_csv('http://data.dft.gov.uk/road-accidents-safety-data/dftRoadSafetyData_Casualties_2018.csv')\n",
    "acc_df = pd.read_csv('http://data.dft.gov.uk/road-accidents-safety-data/dftRoadSafetyData_Accidents_2018.csv') #, index_col='Accident_Index')\n",
    "#lookup_df= pd.read_excel(\"http://data.dft.gov.uk/road-accidents-safety-data/variable%20lookup.xls\")"
   ]
  },
  {
   "cell_type": "code",
   "execution_count": 11,
   "metadata": {},
   "outputs": [],
   "source": [
    "lookup_df= pd.read_excel(\"http://data.dft.gov.uk/road-accidents-safety-data/variable%20lookup.xls\",sheet_name=10)"
   ]
  },
  {
   "cell_type": "code",
   "execution_count": 16,
   "metadata": {},
   "outputs": [],
   "source": [
    "\\"
   ]
  },
  {
   "cell_type": "code",
   "execution_count": null,
   "metadata": {},
   "outputs": [
    {
     "ename": "IndexError",
     "evalue": "list index out of range",
     "output_type": "error",
     "traceback": [
      "\u001b[1;31m---------------------------------------------------------------------------\u001b[0m",
      "\u001b[1;31mIndexError\u001b[0m                                Traceback (most recent call last)",
      "\u001b[1;32m<ipython-input-5-0e928c876910>\u001b[0m in \u001b[0;36m<module>\u001b[1;34m\u001b[0m\n\u001b[0;32m      4\u001b[0m \u001b[1;32mfor\u001b[0m \u001b[0midx\u001b[0m\u001b[1;33m,\u001b[0m \u001b[0max\u001b[0m \u001b[1;32min\u001b[0m  \u001b[0menumerate\u001b[0m\u001b[1;33m(\u001b[0m\u001b[0ma\u001b[0m\u001b[1;33m)\u001b[0m\u001b[1;33m:\u001b[0m\u001b[1;33m\u001b[0m\u001b[1;33m\u001b[0m\u001b[0m\n\u001b[0;32m      5\u001b[0m   \u001b[0msns\u001b[0m\u001b[1;33m.\u001b[0m\u001b[0mset\u001b[0m\u001b[1;33m(\u001b[0m\u001b[0mrc\u001b[0m\u001b[1;33m=\u001b[0m\u001b[1;33m{\u001b[0m\u001b[1;34m\"axes.grid\"\u001b[0m\u001b[1;33m:\u001b[0m\u001b[1;32mTrue\u001b[0m\u001b[1;33m}\u001b[0m\u001b[1;33m)\u001b[0m\u001b[1;33m\u001b[0m\u001b[1;33m\u001b[0m\u001b[0m\n\u001b[1;32m----> 6\u001b[1;33m   p = sns.countplot(x=cols[idx], data=acc_df, hue='Accident_Severity'\\\n\u001b[0m\u001b[0;32m      7\u001b[0m   , ax=ax, palette='Set1', saturation=1, edgecolor=(0,0,0), linewidth=1)\n\u001b[0;32m      8\u001b[0m   \u001b[0mp\u001b[0m\u001b[1;33m.\u001b[0m\u001b[0mlegend\u001b[0m\u001b[1;33m(\u001b[0m\u001b[0mlabels\u001b[0m\u001b[1;33m=\u001b[0m\u001b[1;33m[\u001b[0m\u001b[1;34m\"Fatal\"\u001b[0m\u001b[1;33m,\u001b[0m\u001b[1;34m\"Serious\"\u001b[0m\u001b[1;33m,\u001b[0m\u001b[1;34m\"Slight\"\u001b[0m\u001b[1;33m]\u001b[0m\u001b[1;33m,\u001b[0m \u001b[0mloc\u001b[0m \u001b[1;33m=\u001b[0m \u001b[1;34m'best'\u001b[0m\u001b[1;33m)\u001b[0m\u001b[1;33m\u001b[0m\u001b[1;33m\u001b[0m\u001b[0m\n",
      "\u001b[1;31mIndexError\u001b[0m: list index out of range"
     ]
    }
   ],
   "source": [
    "cols = ['Junction_Detail','Carriageway_Hazards','Location_Easting_OSGR','Location_Northing_OSGR','Local_Authority_(District)']\n",
    "fig,a = plt.subplots(3,2,figsize=(20,12))\n",
    "a = a.reshape(-1)\n",
    "for idx, ax in  enumerate(a):\n",
    "  sns.set(rc={\"axes.grid\":True})\n",
    "  p = sns.countplot(x=cols[idx], data=acc_df, hue='Accident_Severity'\\\n",
    "  , ax=ax, palette='Set1', saturation=1, edgecolor=(0,0,0), linewidth=1)\n",
    "  p.legend(labels=[\"Fatal\",\"Serious\",\"Slight\"], loc = 'best')\n",
    "  #ax.set_title(cols[idx])\n",
    "  ax.set_ylabel('# of cases')\n",
    "plt.show()"
   ]
  },
  {
   "cell_type": "code",
   "execution_count": null,
   "metadata": {},
   "outputs": [],
   "source": []
  },
  {
   "cell_type": "code",
   "execution_count": 5,
   "metadata": {},
   "outputs": [
    {
     "data": {
      "text/html": [
       "<div>\n",
       "<style scoped>\n",
       "    .dataframe tbody tr th:only-of-type {\n",
       "        vertical-align: middle;\n",
       "    }\n",
       "\n",
       "    .dataframe tbody tr th {\n",
       "        vertical-align: top;\n",
       "    }\n",
       "\n",
       "    .dataframe thead th {\n",
       "        text-align: right;\n",
       "    }\n",
       "</style>\n",
       "<table border=\"1\" class=\"dataframe\">\n",
       "  <thead>\n",
       "    <tr style=\"text-align: right;\">\n",
       "      <th></th>\n",
       "      <th>Accident_Index</th>\n",
       "      <th>Location_Easting_OSGR</th>\n",
       "      <th>Location_Northing_OSGR</th>\n",
       "      <th>Longitude</th>\n",
       "      <th>Latitude</th>\n",
       "      <th>Police_Force</th>\n",
       "      <th>Accident_Severity</th>\n",
       "      <th>Number_of_Vehicles</th>\n",
       "      <th>Number_of_Casualties</th>\n",
       "      <th>Date</th>\n",
       "      <th>...</th>\n",
       "      <th>Pedestrian_Crossing-Human_Control</th>\n",
       "      <th>Pedestrian_Crossing-Physical_Facilities</th>\n",
       "      <th>Light_Conditions</th>\n",
       "      <th>Weather_Conditions</th>\n",
       "      <th>Road_Surface_Conditions</th>\n",
       "      <th>Special_Conditions_at_Site</th>\n",
       "      <th>Carriageway_Hazards</th>\n",
       "      <th>Urban_or_Rural_Area</th>\n",
       "      <th>Did_Police_Officer_Attend_Scene_of_Accident</th>\n",
       "      <th>LSOA_of_Accident_Location</th>\n",
       "    </tr>\n",
       "  </thead>\n",
       "  <tbody>\n",
       "    <tr>\n",
       "      <th>0</th>\n",
       "      <td>2018010080971</td>\n",
       "      <td>529150.0</td>\n",
       "      <td>182270.0</td>\n",
       "      <td>-0.139737</td>\n",
       "      <td>51.524587</td>\n",
       "      <td>1</td>\n",
       "      <td>3</td>\n",
       "      <td>2</td>\n",
       "      <td>2</td>\n",
       "      <td>01/01/2018</td>\n",
       "      <td>...</td>\n",
       "      <td>0</td>\n",
       "      <td>0</td>\n",
       "      <td>4</td>\n",
       "      <td>1</td>\n",
       "      <td>1</td>\n",
       "      <td>0</td>\n",
       "      <td>0</td>\n",
       "      <td>1</td>\n",
       "      <td>1</td>\n",
       "      <td>E01000854</td>\n",
       "    </tr>\n",
       "    <tr>\n",
       "      <th>1</th>\n",
       "      <td>2018010080973</td>\n",
       "      <td>542020.0</td>\n",
       "      <td>184290.0</td>\n",
       "      <td>0.046471</td>\n",
       "      <td>51.539651</td>\n",
       "      <td>1</td>\n",
       "      <td>3</td>\n",
       "      <td>1</td>\n",
       "      <td>1</td>\n",
       "      <td>01/01/2018</td>\n",
       "      <td>...</td>\n",
       "      <td>0</td>\n",
       "      <td>0</td>\n",
       "      <td>4</td>\n",
       "      <td>1</td>\n",
       "      <td>1</td>\n",
       "      <td>0</td>\n",
       "      <td>0</td>\n",
       "      <td>1</td>\n",
       "      <td>1</td>\n",
       "      <td>E01003531</td>\n",
       "    </tr>\n",
       "    <tr>\n",
       "      <th>2</th>\n",
       "      <td>2018010080974</td>\n",
       "      <td>531720.0</td>\n",
       "      <td>182910.0</td>\n",
       "      <td>-0.102474</td>\n",
       "      <td>51.529746</td>\n",
       "      <td>1</td>\n",
       "      <td>3</td>\n",
       "      <td>2</td>\n",
       "      <td>1</td>\n",
       "      <td>01/01/2018</td>\n",
       "      <td>...</td>\n",
       "      <td>0</td>\n",
       "      <td>5</td>\n",
       "      <td>4</td>\n",
       "      <td>1</td>\n",
       "      <td>1</td>\n",
       "      <td>0</td>\n",
       "      <td>0</td>\n",
       "      <td>1</td>\n",
       "      <td>1</td>\n",
       "      <td>E01002723</td>\n",
       "    </tr>\n",
       "    <tr>\n",
       "      <th>3</th>\n",
       "      <td>2018010080981</td>\n",
       "      <td>541450.0</td>\n",
       "      <td>183220.0</td>\n",
       "      <td>0.037828</td>\n",
       "      <td>51.530179</td>\n",
       "      <td>1</td>\n",
       "      <td>2</td>\n",
       "      <td>2</td>\n",
       "      <td>1</td>\n",
       "      <td>01/01/2018</td>\n",
       "      <td>...</td>\n",
       "      <td>0</td>\n",
       "      <td>5</td>\n",
       "      <td>4</td>\n",
       "      <td>2</td>\n",
       "      <td>2</td>\n",
       "      <td>0</td>\n",
       "      <td>0</td>\n",
       "      <td>1</td>\n",
       "      <td>1</td>\n",
       "      <td>E01003492</td>\n",
       "    </tr>\n",
       "    <tr>\n",
       "      <th>4</th>\n",
       "      <td>2018010080982</td>\n",
       "      <td>543580.0</td>\n",
       "      <td>176500.0</td>\n",
       "      <td>0.065781</td>\n",
       "      <td>51.469258</td>\n",
       "      <td>1</td>\n",
       "      <td>2</td>\n",
       "      <td>2</td>\n",
       "      <td>2</td>\n",
       "      <td>01/01/2018</td>\n",
       "      <td>...</td>\n",
       "      <td>0</td>\n",
       "      <td>0</td>\n",
       "      <td>4</td>\n",
       "      <td>1</td>\n",
       "      <td>2</td>\n",
       "      <td>0</td>\n",
       "      <td>0</td>\n",
       "      <td>1</td>\n",
       "      <td>1</td>\n",
       "      <td>E01001682</td>\n",
       "    </tr>\n",
       "  </tbody>\n",
       "</table>\n",
       "<p>5 rows × 32 columns</p>\n",
       "</div>"
      ],
      "text/plain": [
       "  Accident_Index  Location_Easting_OSGR  Location_Northing_OSGR  Longitude  \\\n",
       "0  2018010080971               529150.0                182270.0  -0.139737   \n",
       "1  2018010080973               542020.0                184290.0   0.046471   \n",
       "2  2018010080974               531720.0                182910.0  -0.102474   \n",
       "3  2018010080981               541450.0                183220.0   0.037828   \n",
       "4  2018010080982               543580.0                176500.0   0.065781   \n",
       "\n",
       "    Latitude  Police_Force  Accident_Severity  Number_of_Vehicles  \\\n",
       "0  51.524587             1                  3                   2   \n",
       "1  51.539651             1                  3                   1   \n",
       "2  51.529746             1                  3                   2   \n",
       "3  51.530179             1                  2                   2   \n",
       "4  51.469258             1                  2                   2   \n",
       "\n",
       "   Number_of_Casualties        Date  ...  Pedestrian_Crossing-Human_Control  \\\n",
       "0                     2  01/01/2018  ...                                  0   \n",
       "1                     1  01/01/2018  ...                                  0   \n",
       "2                     1  01/01/2018  ...                                  0   \n",
       "3                     1  01/01/2018  ...                                  0   \n",
       "4                     2  01/01/2018  ...                                  0   \n",
       "\n",
       "  Pedestrian_Crossing-Physical_Facilities  Light_Conditions  \\\n",
       "0                                       0                 4   \n",
       "1                                       0                 4   \n",
       "2                                       5                 4   \n",
       "3                                       5                 4   \n",
       "4                                       0                 4   \n",
       "\n",
       "  Weather_Conditions  Road_Surface_Conditions  Special_Conditions_at_Site  \\\n",
       "0                  1                        1                           0   \n",
       "1                  1                        1                           0   \n",
       "2                  1                        1                           0   \n",
       "3                  2                        2                           0   \n",
       "4                  1                        2                           0   \n",
       "\n",
       "   Carriageway_Hazards  Urban_or_Rural_Area  \\\n",
       "0                    0                    1   \n",
       "1                    0                    1   \n",
       "2                    0                    1   \n",
       "3                    0                    1   \n",
       "4                    0                    1   \n",
       "\n",
       "   Did_Police_Officer_Attend_Scene_of_Accident  LSOA_of_Accident_Location  \n",
       "0                                            1                  E01000854  \n",
       "1                                            1                  E01003531  \n",
       "2                                            1                  E01002723  \n",
       "3                                            1                  E01003492  \n",
       "4                                            1                  E01001682  \n",
       "\n",
       "[5 rows x 32 columns]"
      ]
     },
     "execution_count": 5,
     "metadata": {},
     "output_type": "execute_result"
    }
   ],
   "source": [
    "acc_df.columns\n",
    "#(226409, 23)\n",
    "acc_df.head()"
   ]
  },
  {
   "cell_type": "code",
   "execution_count": 7,
   "metadata": {},
   "outputs": [],
   "source": [
    "# acc_df.dtypes\n",
    "# acc_df['col'] = acc_df['col'].astype(\"int\")"
   ]
  },
  {
   "cell_type": "code",
   "execution_count": 8,
   "metadata": {},
   "outputs": [],
   "source": [
    "#acc_df['col1','col2'].describe(include='all')\n",
    "#acc_df.info()\n",
    "#acc_df.dropna(subset=['col1','col2'], axis = 0)\n",
    "#acc_df.LSOA_of_Accident_Location"
   ]
  },
  {
   "cell_type": "code",
   "execution_count": 109,
   "metadata": {},
   "outputs": [
    {
     "data": {
      "text/plain": [
       "0        1970-01-01 00:00:00.000000002\n",
       "1        1970-01-01 00:00:00.000000002\n",
       "2        1970-01-01 00:00:00.000000002\n",
       "3        1970-01-01 00:00:00.000000002\n",
       "4        1970-01-01 00:00:00.000000002\n",
       "                      ...             \n",
       "122630   1970-01-01 00:00:00.000000001\n",
       "122631   1970-01-01 00:00:00.000000002\n",
       "122632   1970-01-01 00:00:00.000000005\n",
       "122633   1970-01-01 00:00:00.000000002\n",
       "122634   1970-01-01 00:00:00.000000002\n",
       "Name: Day_of_Week, Length: 122635, dtype: datetime64[ns]"
      ]
     },
     "execution_count": 109,
     "metadata": {},
     "output_type": "execute_result"
    }
   ],
   "source": [
    "acc_df.Date = pd.to_datetime(acc_df.Date)\n",
    "\n",
    "acc_df.Time = pd.to_datetime(acc_df.Time)\n",
    "acc_df.Day_of_Week"
   ]
  },
  {
   "cell_type": "code",
   "execution_count": 9,
   "metadata": {},
   "outputs": [
    {
     "data": {
      "text/plain": [
       "Accident_Index                                  object\n",
       "Location_Easting_OSGR                          float64\n",
       "Location_Northing_OSGR                         float64\n",
       "Longitude                                      float64\n",
       "Latitude                                       float64\n",
       "Police_Force                                     int64\n",
       "Accident_Severity                                int64\n",
       "Number_of_Vehicles                               int64\n",
       "Number_of_Casualties                             int64\n",
       "Date                                            object\n",
       "Day_of_Week                                      int64\n",
       "Time                                            object\n",
       "Local_Authority_(District)                       int64\n",
       "Local_Authority_(Highway)                       object\n",
       "1st_Road_Class                                   int64\n",
       "1st_Road_Number                                  int64\n",
       "Road_Type                                        int64\n",
       "Speed_limit                                      int64\n",
       "Junction_Detail                                  int64\n",
       "Junction_Control                                 int64\n",
       "2nd_Road_Class                                   int64\n",
       "2nd_Road_Number                                  int64\n",
       "Pedestrian_Crossing-Human_Control                int64\n",
       "Pedestrian_Crossing-Physical_Facilities          int64\n",
       "Light_Conditions                                 int64\n",
       "Weather_Conditions                               int64\n",
       "Road_Surface_Conditions                          int64\n",
       "Special_Conditions_at_Site                       int64\n",
       "Carriageway_Hazards                              int64\n",
       "Urban_or_Rural_Area                              int64\n",
       "Did_Police_Officer_Attend_Scene_of_Accident      int64\n",
       "LSOA_of_Accident_Location                       object\n",
       "dtype: object"
      ]
     },
     "execution_count": 9,
     "metadata": {},
     "output_type": "execute_result"
    }
   ],
   "source": [
    "acc_df.dtypes"
   ]
  },
  {
   "cell_type": "code",
   "execution_count": 1,
   "metadata": {},
   "outputs": [
    {
     "ename": "NameError",
     "evalue": "name 'acc_df' is not defined",
     "output_type": "error",
     "traceback": [
      "\u001b[1;31m---------------------------------------------------------------------------\u001b[0m",
      "\u001b[1;31mNameError\u001b[0m                                 Traceback (most recent call last)",
      "\u001b[1;32m<ipython-input-1-dca16ac00331>\u001b[0m in \u001b[0;36m<module>\u001b[1;34m\u001b[0m\n\u001b[1;32m----> 1\u001b[1;33m \u001b[0macc_df\u001b[0m\u001b[1;33m.\u001b[0m\u001b[0mcolumns\u001b[0m\u001b[1;33m\u001b[0m\u001b[1;33m\u001b[0m\u001b[0m\n\u001b[0m",
      "\u001b[1;31mNameError\u001b[0m: name 'acc_df' is not defined"
     ]
    }
   ],
   "source": [
    "acc_df.columns"
   ]
  },
  {
   "cell_type": "code",
   "execution_count": 11,
   "metadata": {},
   "outputs": [
    {
     "ename": "NameError",
     "evalue": "name 'missing_val' is not defined",
     "output_type": "error",
     "traceback": [
      "\u001b[1;31m---------------------------------------------------------------------------\u001b[0m",
      "\u001b[1;31mNameError\u001b[0m                                 Traceback (most recent call last)",
      "\u001b[1;32m<ipython-input-11-d6c134edea12>\u001b[0m in \u001b[0;36m<module>\u001b[1;34m\u001b[0m\n\u001b[1;32m----> 1\u001b[1;33m \u001b[0macc_df\u001b[0m\u001b[1;33m.\u001b[0m\u001b[0mreplace\u001b[0m\u001b[1;33m(\u001b[0m\u001b[0mmissing_val\u001b[0m\u001b[1;33m,\u001b[0m \u001b[0mnew_val\u001b[0m\u001b[1;33m)\u001b[0m\u001b[1;33m\u001b[0m\u001b[1;33m\u001b[0m\u001b[0m\n\u001b[0m\u001b[0;32m      2\u001b[0m \u001b[0mmean\u001b[0m \u001b[1;33m=\u001b[0m \u001b[0macc_df\u001b[0m\u001b[1;33m.\u001b[0m\u001b[0mcol\u001b[0m\u001b[1;33m.\u001b[0m\u001b[0mmean\u001b[0m\u001b[1;33m(\u001b[0m\u001b[1;33m)\u001b[0m\u001b[1;33m\u001b[0m\u001b[1;33m\u001b[0m\u001b[0m\n\u001b[0;32m      3\u001b[0m \u001b[0mdf\u001b[0m\u001b[1;33m.\u001b[0m\u001b[0mcol\u001b[0m\u001b[1;33m.\u001b[0m\u001b[0mreplace\u001b[0m\u001b[1;33m(\u001b[0m\u001b[0mnp\u001b[0m\u001b[1;33m.\u001b[0m\u001b[0mnan\u001b[0m\u001b[1;33m,\u001b[0m\u001b[0mmean\u001b[0m\u001b[1;33m)\u001b[0m\u001b[1;33m\u001b[0m\u001b[1;33m\u001b[0m\u001b[0m\n",
      "\u001b[1;31mNameError\u001b[0m: name 'missing_val' is not defined"
     ]
    }
   ],
   "source": [
    "acc_df.replace(missing_val, new_val)\n",
    "mean = acc_df.col.mean()\n",
    "df.col.replace(np.nan,mean)"
   ]
  },
  {
   "cell_type": "code",
   "execution_count": null,
   "metadata": {},
   "outputs": [],
   "source": []
  },
  {
   "cell_type": "code",
   "execution_count": 12,
   "metadata": {
    "scrolled": true
   },
   "outputs": [
    {
     "data": {
      "text/plain": [
       "array([[<matplotlib.axes._subplots.AxesSubplot object at 0x000001C17192C908>]],\n",
       "      dtype=object)"
      ]
     },
     "execution_count": 12,
     "metadata": {},
     "output_type": "execute_result"
    },
    {
     "data": {
      "image/png": "[encoded data removed]",
      "text/plain": [
       "<Figure size 432x288 with 1 Axes>"
      ]
     },
     "metadata": {
      "needs_background": "light"
     },
     "output_type": "display_data"
    },
    {
     "data": {
      "image/png": "[encoded data removed]",
      "text/plain": [
       "<Figure size 432x288 with 1 Axes>"
      ]
     },
     "metadata": {
      "needs_background": "light"
     },
     "output_type": "display_data"
    }
   ],
   "source": [
    "#acc_df.Date.dt.year\n",
    "acc_df.Accident_Index.shape\n",
    "#(122635,)\n",
    "acc_df['Accident_Index'].drop_duplicates()\n",
    "acc_df.hist('Location_Easting_OSGR')\n",
    "acc_df.hist('Location_Northing_OSGR')\n"
   ]
  },
  {
   "cell_type": "code",
   "execution_count": 120,
   "metadata": {},
   "outputs": [],
   "source": [
    "acc_df.drop(labels=['Location_Easting_OSGR','Location_Northing_OSGR','LSOA_of_Accident_Location','Police_Force','Local_Authority_(District)','Local_Authority_(Highway)'],axis=1,inplace=True)"
   ]
  },
  {
   "cell_type": "code",
   "execution_count": 124,
   "metadata": {},
   "outputs": [
    {
     "data": {
      "text/plain": [
       "Index(['Accident_Index', 'Longitude', 'Latitude', 'Accident_Severity',\n",
       "       'Number_of_Vehicles', 'Number_of_Casualties', 'Date', 'Day_of_Week',\n",
       "       'Time', '1st_Road_Class', '1st_Road_Number', 'Road_Type', 'Speed_limit',\n",
       "       'Junction_Detail', 'Junction_Control', '2nd_Road_Class',\n",
       "       '2nd_Road_Number', 'Pedestrian_Crossing-Human_Control',\n",
       "       'Pedestrian_Crossing-Physical_Facilities', 'Light_Conditions',\n",
       "       'Weather_Conditions', 'Road_Surface_Conditions',\n",
       "       'Special_Conditions_at_Site', 'Carriageway_Hazards',\n",
       "       'Urban_or_Rural_Area', 'Did_Police_Officer_Attend_Scene_of_Accident'],\n",
       "      dtype='object')"
      ]
     },
     "execution_count": 124,
     "metadata": {},
     "output_type": "execute_result"
    }
   ],
   "source": [
    "acc_df.columns"
   ]
  },
  {
   "cell_type": "code",
   "execution_count": 80,
   "metadata": {},
   "outputs": [
    {
     "data": {
      "text/plain": [
       "0         Yes\n",
       "1         Yes\n",
       "2         Yes\n",
       "3         Yes\n",
       "4         Yes\n",
       "         ... \n",
       "122630    Yes\n",
       "122631    Yes\n",
       "122632    Yes\n",
       "122633    Yes\n",
       "122634     No\n",
       "Name: Did_Police_Officer_Attend_Scene_of_Accident, Length: 122635, dtype: object"
      ]
     },
     "execution_count": 80,
     "metadata": {},
     "output_type": "execute_result"
    }
   ],
   "source": [
    "acc_df.shape\n",
    "#veh_df[veh_df['Accident_Index'] == '201801T266389']\n",
    "#cas_df[cas_df['Accident_Index'] == '201801T266389']\n",
    "#acc_df.loc['201801T266389'] -> This wont work since we are not indexing on Accident_Index column\n",
    "acc_df = pd.read_csv('http://data.dft.gov.uk/road-accidents-safety-data/dftRoadSafetyData_Accidents_2018.csv') #, index_col='Accident_Index')\n",
    "\n",
    "acc_df['Did_Police_Officer_Attend_Scene_of_Accident'] = acc_df['Did_Police_Officer_Attend_Scene_of_Accident'].map({1:'Yes',2:'No',3:'Self'})\n",
    "acc_df['Did_Police_Officer_Attend_Scene_of_Accident']"
   ]
  },
  {
   "cell_type": "code",
   "execution_count": 21,
   "metadata": {},
   "outputs": [
    {
     "data": {
      "text/plain": [
       "Yes     87529\n",
       "No      34161\n",
       "Self      943\n",
       "Name: Did_Police_Officer_Attend_Scene_of_Accident, dtype: int64"
      ]
     },
     "execution_count": 21,
     "metadata": {},
     "output_type": "execute_result"
    }
   ],
   "source": [
    "acc_df['Did_Police_Officer_Attend_Scene_of_Accident'].value_counts()"
   ]
  },
  {
   "cell_type": "code",
   "execution_count": 33,
   "metadata": {},
   "outputs": [
    {
     "data": {
      "text/plain": [
       "Index(['Accident_Index', 'Vehicle_Reference', 'Vehicle_Type',\n",
       "       'Towing_and_Articulation', 'Vehicle_Manoeuvre',\n",
       "       'Vehicle_Location-Restricted_Lane', 'Junction_Location',\n",
       "       'Skidding_and_Overturning', 'Hit_Object_in_Carriageway',\n",
       "       'Vehicle_Leaving_Carriageway', 'Hit_Object_off_Carriageway',\n",
       "       '1st_Point_of_Impact', 'Was_Vehicle_Left_Hand_Drive?',\n",
       "       'Journey_Purpose_of_Driver', 'Sex_of_Driver', 'Age_of_Driver',\n",
       "       'Age_Band_of_Driver', 'Engine_Capacity_(CC)', 'Propulsion_Code',\n",
       "       'Age_of_Vehicle', 'Driver_IMD_Decile', 'Driver_Home_Area_Type',\n",
       "       'Vehicle_IMD_Decile'],\n",
       "      dtype='object')"
      ]
     },
     "execution_count": 33,
     "metadata": {},
     "output_type": "execute_result"
    }
   ],
   "source": [
    "#veh_df.Junction_Location = veh_df.Junction_Location.map({'1':'Roundabout','2':'Whatever'})\n",
    "veh_df.columns\n",
    "#ab = veh_df\n",
    "#ab.Police_Officer_Attend"
   ]
  },
  {
   "cell_type": "code",
   "execution_count": 9,
   "metadata": {},
   "outputs": [
    {
     "data": {
      "text/plain": [
       "Index(['Accident_Index', 'Vehicle_Reference', 'Casualty_Reference',\n",
       "       'Casualty_Class', 'Sex_of_Casualty', 'Age_of_Casualty',\n",
       "       'Age_Band_of_Casualty', 'Casualty_Severity', 'Pedestrian_Location',\n",
       "       'Pedestrian_Movement', 'Car_Passenger', 'Bus_or_Coach_Passenger',\n",
       "       'Pedestrian_Road_Maintenance_Worker', 'Casualty_Type',\n",
       "       'Casualty_Home_Area_Type', 'Casualty_IMD_Decile'],\n",
       "      dtype='object')"
      ]
     },
     "execution_count": 9,
     "metadata": {},
     "output_type": "execute_result"
    }
   ],
   "source": [
    "cas_df.columns"
   ]
  },
  {
   "cell_type": "code",
   "execution_count": 10,
   "metadata": {},
   "outputs": [
    {
     "data": {
      "text/plain": [
       " 6     33242\n",
       " 7     24225\n",
       " 8     22454\n",
       " 5     18187\n",
       " 4     16020\n",
       " 9     14030\n",
       " 10     8490\n",
       " 3      6873\n",
       " 11     6795\n",
       " 2      4419\n",
       " 1      2974\n",
       "-1      2888\n",
       "Name: Age_Band_of_Casualty, dtype: int64"
      ]
     },
     "execution_count": 10,
     "metadata": {},
     "output_type": "execute_result"
    }
   ],
   "source": [
    "cas_df.Age_Band_of_Casualty.value_counts()\n"
   ]
  },
  {
   "cell_type": "code",
   "execution_count": 13,
   "metadata": {},
   "outputs": [
    {
     "data": {
      "text/plain": [
       "Age_Band_of_Casualty  Casualty_Severity\n",
       "-1                    2                      462\n",
       "                      3                     7971\n",
       " 1                    1                       14\n",
       "                      2                      668\n",
       "                      3                     7878\n",
       " 2                    1                        9\n",
       "                      2                     1118\n",
       "                      3                    11553\n",
       " 3                    1                       25\n",
       "                      2                     2396\n",
       "                      3                    16950\n",
       " 4                    1                      141\n",
       "                      2                     5324\n",
       "                      3                    39651\n",
       " 5                    1                      178\n",
       "                      2                     5506\n",
       "                      3                    45768\n",
       " 6                    1                      289\n",
       "                      2                     9192\n",
       "                      3                    85071\n",
       " 7                    1                      212\n",
       "                      2                     6814\n",
       "                      3                    61818\n",
       " 8                    1                      243\n",
       "                      2                     7254\n",
       "                      3                    55752\n",
       " 9                    1                      218\n",
       "                      2                     5268\n",
       "                      3                    33534\n",
       " 10                   1                      193\n",
       "                      2                     3580\n",
       "                      3                    19521\n",
       " 11                   1                      262\n",
       "                      2                     3440\n",
       "                      3                    14439\n",
       "Name: Casualty_Severity, dtype: int64"
      ]
     },
     "execution_count": 13,
     "metadata": {},
     "output_type": "execute_result"
    }
   ],
   "source": [
    "age_cas_classify = cas_df.groupby(['Age_Band_of_Casualty', 'Casualty_Severity'])['Casualty_Severity'].agg('sum')\n",
    "age_cas_classify"
   ]
  },
  {
   "cell_type": "code",
   "execution_count": 14,
   "metadata": {},
   "outputs": [
    {
     "name": "stdout",
     "output_type": "stream",
     "text": [
      "[Unstacking]\n",
      "Casualty_Severity         1       2        3\n",
      "Age_Band_of_Casualty                        \n",
      "-1                      NaN   462.0   7971.0\n",
      " 1                     14.0   668.0   7878.0\n",
      " 2                      9.0  1118.0  11553.0\n",
      " 3                     25.0  2396.0  16950.0\n",
      " 4                    141.0  5324.0  39651.0\n",
      " 5                    178.0  5506.0  45768.0\n",
      " 6                    289.0  9192.0  85071.0\n",
      " 7                    212.0  6814.0  61818.0\n",
      " 8                    243.0  7254.0  55752.0\n",
      " 9                    218.0  5268.0  33534.0\n",
      " 10                   193.0  3580.0  19521.0\n",
      " 11                   262.0  3440.0  14439.0\n"
     ]
    },
    {
     "data": {
      "image/png": "[encoded data removed]",
      "text/plain": [
       "<Figure size 432x288 with 1 Axes>"
      ]
     },
     "metadata": {
      "needs_background": "light"
     },
     "output_type": "display_data"
    }
   ],
   "source": [
    "\n",
    "\n",
    "print(\"[Unstacking]\")\n",
    "age_severitycasesCount = age_cas_classify.unstack()\n",
    "print(age_severitycasesCount)\n",
    "\n",
    "age_severitycasesCount.plot(kind = 'bar', title = 'by Age, Casualty_Severity',stacked=True)\n",
    "plt.ylabel('Number_of_Casualties')\n",
    "plt.show()"
   ]
  },
  {
   "cell_type": "code",
   "execution_count": null,
   "metadata": {},
   "outputs": [],
   "source": [
    "# Casualty Severity\n",
    "# 1\tFatal\n",
    "# 2\tSerious\n",
    "# 3\tSlight"
   ]
  },
  {
   "cell_type": "code",
   "execution_count": 7,
   "metadata": {},
   "outputs": [
    {
     "data": {
      "text/plain": [
       "Index(['Location_Easting_OSGR', 'Location_Northing_OSGR', 'Longitude',\n",
       "       'Latitude', 'Police_Force', 'Accident_Severity', 'Number_of_Vehicles',\n",
       "       'Number_of_Casualties', 'Date', 'Day_of_Week', 'Time',\n",
       "       'Local_Authority_(District)', 'Local_Authority_(Highway)',\n",
       "       '1st_Road_Class', '1st_Road_Number', 'Road_Type', 'Speed_limit',\n",
       "       'Junction_Detail', 'Junction_Control', '2nd_Road_Class',\n",
       "       '2nd_Road_Number', 'Pedestrian_Crossing-Human_Control',\n",
       "       'Pedestrian_Crossing-Physical_Facilities', 'Light_Conditions',\n",
       "       'Weather_Conditions', 'Road_Surface_Conditions',\n",
       "       'Special_Conditions_at_Site', 'Carriageway_Hazards',\n",
       "       'Urban_or_Rural_Area', 'Did_Police_Officer_Attend_Scene_of_Accident',\n",
       "       'LSOA_of_Accident_Location'],\n",
       "      dtype='object')"
      ]
     },
     "execution_count": 7,
     "metadata": {},
     "output_type": "execute_result"
    }
   ],
   "source": [
    "acc_df.columns"
   ]
  },
  {
   "cell_type": "code",
   "execution_count": 16,
   "metadata": {},
   "outputs": [
    {
     "data": {
      "text/plain": [
       "2018460297266    24\n",
       "201897KB00111    18\n",
       "201806XN41294    16\n",
       "201831B049918    16\n",
       "2018521805310    16\n",
       "                 ..\n",
       "201806A350030     1\n",
       "2018950001716     1\n",
       "201804ED18353     1\n",
       "2018551801607     1\n",
       "2018331800258     1\n",
       "Name: Accident_Index, Length: 122635, dtype: int64"
      ]
     },
     "execution_count": 16,
     "metadata": {},
     "output_type": "execute_result"
    }
   ],
   "source": [
    "veh_df['Accident_Index'].value_counts()\n",
    "#veh_df.head()"
   ]
  },
  {
   "cell_type": "code",
   "execution_count": 17,
   "metadata": {},
   "outputs": [
    {
     "data": {
      "text/plain": [
       " 0    94416\n",
       " 1    49907\n",
       " 8    37237\n",
       " 2    12223\n",
       " 6     9225\n",
       "-1     7448\n",
       " 4     6159\n",
       " 5     5336\n",
       " 3     3650\n",
       " 7      808\n",
       "Name: Junction_Location, dtype: int64"
      ]
     },
     "execution_count": 17,
     "metadata": {},
     "output_type": "execute_result"
    }
   ],
   "source": [
    "# veh_df['Was_Vehicle_Left_Hand_Drive?'].value_counts()\n",
    "#  1    216098\n",
    "# -1      8880\n",
    "#  2      1431\n",
    "# Name: Was_Vehicle_Left_Hand_Drive?, dtype: int64\n",
    "veh_df['Junction_Location'].value_counts()"
   ]
  },
  {
   "cell_type": "code",
   "execution_count": 18,
   "metadata": {},
   "outputs": [
    {
     "data": {
      "text/html": [
       "<div>\n",
       "<style scoped>\n",
       "    .dataframe tbody tr th:only-of-type {\n",
       "        vertical-align: middle;\n",
       "    }\n",
       "\n",
       "    .dataframe tbody tr th {\n",
       "        vertical-align: top;\n",
       "    }\n",
       "\n",
       "    .dataframe thead th {\n",
       "        text-align: right;\n",
       "    }\n",
       "</style>\n",
       "<table border=\"1\" class=\"dataframe\">\n",
       "  <thead>\n",
       "    <tr style=\"text-align: right;\">\n",
       "      <th></th>\n",
       "      <th>Accident_Index</th>\n",
       "      <th>Vehicle_Reference</th>\n",
       "      <th>Casualty_Reference</th>\n",
       "      <th>Casualty_Class</th>\n",
       "      <th>Sex_of_Casualty</th>\n",
       "      <th>Age_of_Casualty</th>\n",
       "      <th>Age_Band_of_Casualty</th>\n",
       "      <th>Casualty_Severity</th>\n",
       "      <th>Pedestrian_Location</th>\n",
       "      <th>Pedestrian_Movement</th>\n",
       "      <th>Car_Passenger</th>\n",
       "      <th>Bus_or_Coach_Passenger</th>\n",
       "      <th>Pedestrian_Road_Maintenance_Worker</th>\n",
       "      <th>Casualty_Type</th>\n",
       "      <th>Casualty_Home_Area_Type</th>\n",
       "      <th>Casualty_IMD_Decile</th>\n",
       "    </tr>\n",
       "  </thead>\n",
       "  <tbody>\n",
       "    <tr>\n",
       "      <th>0</th>\n",
       "      <td>2018010080971</td>\n",
       "      <td>1</td>\n",
       "      <td>1</td>\n",
       "      <td>2</td>\n",
       "      <td>2</td>\n",
       "      <td>50</td>\n",
       "      <td>8</td>\n",
       "      <td>3</td>\n",
       "      <td>0</td>\n",
       "      <td>0</td>\n",
       "      <td>2</td>\n",
       "      <td>0</td>\n",
       "      <td>0</td>\n",
       "      <td>9</td>\n",
       "      <td>1</td>\n",
       "      <td>8</td>\n",
       "    </tr>\n",
       "    <tr>\n",
       "      <th>1</th>\n",
       "      <td>2018010080971</td>\n",
       "      <td>2</td>\n",
       "      <td>2</td>\n",
       "      <td>1</td>\n",
       "      <td>1</td>\n",
       "      <td>48</td>\n",
       "      <td>8</td>\n",
       "      <td>3</td>\n",
       "      <td>0</td>\n",
       "      <td>0</td>\n",
       "      <td>0</td>\n",
       "      <td>0</td>\n",
       "      <td>0</td>\n",
       "      <td>8</td>\n",
       "      <td>1</td>\n",
       "      <td>1</td>\n",
       "    </tr>\n",
       "    <tr>\n",
       "      <th>2</th>\n",
       "      <td>2018010080973</td>\n",
       "      <td>1</td>\n",
       "      <td>1</td>\n",
       "      <td>3</td>\n",
       "      <td>1</td>\n",
       "      <td>29</td>\n",
       "      <td>6</td>\n",
       "      <td>3</td>\n",
       "      <td>5</td>\n",
       "      <td>1</td>\n",
       "      <td>0</td>\n",
       "      <td>0</td>\n",
       "      <td>2</td>\n",
       "      <td>0</td>\n",
       "      <td>1</td>\n",
       "      <td>3</td>\n",
       "    </tr>\n",
       "    <tr>\n",
       "      <th>3</th>\n",
       "      <td>2018010080974</td>\n",
       "      <td>1</td>\n",
       "      <td>1</td>\n",
       "      <td>1</td>\n",
       "      <td>1</td>\n",
       "      <td>40</td>\n",
       "      <td>7</td>\n",
       "      <td>3</td>\n",
       "      <td>0</td>\n",
       "      <td>0</td>\n",
       "      <td>0</td>\n",
       "      <td>0</td>\n",
       "      <td>0</td>\n",
       "      <td>8</td>\n",
       "      <td>1</td>\n",
       "      <td>3</td>\n",
       "    </tr>\n",
       "    <tr>\n",
       "      <th>4</th>\n",
       "      <td>2018010080981</td>\n",
       "      <td>1</td>\n",
       "      <td>1</td>\n",
       "      <td>1</td>\n",
       "      <td>1</td>\n",
       "      <td>27</td>\n",
       "      <td>6</td>\n",
       "      <td>2</td>\n",
       "      <td>0</td>\n",
       "      <td>0</td>\n",
       "      <td>0</td>\n",
       "      <td>0</td>\n",
       "      <td>0</td>\n",
       "      <td>9</td>\n",
       "      <td>1</td>\n",
       "      <td>7</td>\n",
       "    </tr>\n",
       "  </tbody>\n",
       "</table>\n",
       "</div>"
      ],
      "text/plain": [
       "  Accident_Index  Vehicle_Reference  Casualty_Reference  Casualty_Class  \\\n",
       "0  2018010080971                  1                   1               2   \n",
       "1  2018010080971                  2                   2               1   \n",
       "2  2018010080973                  1                   1               3   \n",
       "3  2018010080974                  1                   1               1   \n",
       "4  2018010080981                  1                   1               1   \n",
       "\n",
       "   Sex_of_Casualty  Age_of_Casualty  Age_Band_of_Casualty  Casualty_Severity  \\\n",
       "0                2               50                     8                  3   \n",
       "1                1               48                     8                  3   \n",
       "2                1               29                     6                  3   \n",
       "3                1               40                     7                  3   \n",
       "4                1               27                     6                  2   \n",
       "\n",
       "   Pedestrian_Location  Pedestrian_Movement  Car_Passenger  \\\n",
       "0                    0                    0              2   \n",
       "1                    0                    0              0   \n",
       "2                    5                    1              0   \n",
       "3                    0                    0              0   \n",
       "4                    0                    0              0   \n",
       "\n",
       "   Bus_or_Coach_Passenger  Pedestrian_Road_Maintenance_Worker  Casualty_Type  \\\n",
       "0                       0                                   0              9   \n",
       "1                       0                                   0              8   \n",
       "2                       0                                   2              0   \n",
       "3                       0                                   0              8   \n",
       "4                       0                                   0              9   \n",
       "\n",
       "   Casualty_Home_Area_Type  Casualty_IMD_Decile  \n",
       "0                        1                    8  \n",
       "1                        1                    1  \n",
       "2                        1                    3  \n",
       "3                        1                    3  \n",
       "4                        1                    7  "
      ]
     },
     "execution_count": 18,
     "metadata": {},
     "output_type": "execute_result"
    }
   ],
   "source": [
    "cas_df.head()\n",
    "# .min(), .max(), .info()\n",
    "#cas_df.mean()"
   ]
  },
  {
   "cell_type": "code",
   "execution_count": 74,
   "metadata": {},
   "outputs": [],
   "source": [
    "#acc_df.loc['2018460297266']"
   ]
  },
  {
   "cell_type": "code",
   "execution_count": 20,
   "metadata": {},
   "outputs": [
    {
     "ename": "AttributeError",
     "evalue": "'list' object has no attribute 'map'",
     "output_type": "error",
     "traceback": [
      "\u001b[1;31m---------------------------------------------------------------------------\u001b[0m",
      "\u001b[1;31mAttributeError\u001b[0m                            Traceback (most recent call last)",
      "\u001b[1;32m<ipython-input-20-7b3281f49192>\u001b[0m in \u001b[0;36m<module>\u001b[1;34m\u001b[0m\n\u001b[0;32m      1\u001b[0m \u001b[0mval\u001b[0m \u001b[1;33m=\u001b[0m \u001b[0mlist\u001b[0m\u001b[1;33m(\u001b[0m\u001b[0macc_df\u001b[0m\u001b[1;33m.\u001b[0m\u001b[0mAccident_Severity\u001b[0m\u001b[1;33m.\u001b[0m\u001b[0munique\u001b[0m\u001b[1;33m(\u001b[0m\u001b[1;33m)\u001b[0m\u001b[1;33m)\u001b[0m\u001b[1;33m\u001b[0m\u001b[1;33m\u001b[0m\u001b[0m\n\u001b[1;32m----> 2\u001b[1;33m \u001b[0mal\u001b[0m \u001b[1;33m=\u001b[0m \u001b[0mval\u001b[0m\u001b[1;33m.\u001b[0m\u001b[0mmap\u001b[0m\u001b[1;33m(\u001b[0m\u001b[1;33m{\u001b[0m\u001b[1;36m3\u001b[0m\u001b[1;33m:\u001b[0m\u001b[1;34m'SLIGHT'\u001b[0m\u001b[1;33m,\u001b[0m \u001b[1;36m2\u001b[0m\u001b[1;33m:\u001b[0m\u001b[1;34m'SERIOUS'\u001b[0m\u001b[1;33m,\u001b[0m\u001b[1;36m1\u001b[0m\u001b[1;33m:\u001b[0m\u001b[1;34m'FATAL'\u001b[0m\u001b[1;33m}\u001b[0m\u001b[1;33m)\u001b[0m\u001b[1;33m\u001b[0m\u001b[1;33m\u001b[0m\u001b[0m\n\u001b[0m",
      "\u001b[1;31mAttributeError\u001b[0m: 'list' object has no attribute 'map'"
     ]
    }
   ],
   "source": [
    "val = list(acc_df.Accident_Severity.unique())\n",
    "al = val.map({3:'SLIGHT', 2:'SERIOUS',1:'FATAL'})"
   ]
  },
  {
   "cell_type": "code",
   "execution_count": 21,
   "metadata": {
    "scrolled": true
   },
   "outputs": [
    {
     "data": {
      "image/png": "[encoded data removed]",
      "text/plain": [
       "<Figure size 432x288 with 1 Axes>"
      ]
     },
     "metadata": {
      "needs_background": "light"
     },
     "output_type": "display_data"
    }
   ],
   "source": [
    "#acc_df.dtypes()\n",
    "\n",
    "group_name=['SLIGHT', 'SERIOUS','FATAL']\n",
    "plt.bar(group_name, acc_df.Accident_Severity.value_counts())\n",
    "plt.xlabel('Accident Severity')\n",
    "plt.ylabel('Number of Cases')\n",
    "plt.title('Number of Accidents based on Severity')\n",
    "plt.show()\n",
    "#acc_df.Accident_Severity.value_counts().plot(kind='bar')\n"
   ]
  },
  {
   "cell_type": "code",
   "execution_count": 75,
   "metadata": {},
   "outputs": [
    {
     "name": "stderr",
     "output_type": "stream",
     "text": [
      "C:\\Users\\harid\\.conda\\envs\\TestEnv\\lib\\site-packages\\ipykernel_launcher.py:5: MatplotlibDeprecationWarning: Adding an axes using the same arguments as a previous axes currently reuses the earlier instance.  In a future version, a new instance will always be created and returned.  Meanwhile, this warning can be suppressed, and the future behavior ensured, by passing a unique label to each axes instance.\n",
      "  \"\"\"\n"
     ]
    },
    {
     "data": {
      "text/plain": [
       "<matplotlib.axes._subplots.AxesSubplot at 0x1c178890188>"
      ]
     },
     "execution_count": 75,
     "metadata": {},
     "output_type": "execute_result"
    },
    {
     "data": {
      "image/png": "[encoded data removed]",
      "text/plain": [
       "<Figure size 432x288 with 4 Axes>"
      ]
     },
     "metadata": {
      "needs_background": "light"
     },
     "output_type": "display_data"
    }
   ],
   "source": [
    "#First change all the values to a str - NOt needed\n",
    "plt.subplot(221)\n",
    "\n",
    "# equivalent but more general\n",
    "ax1=plt.subplot(2, 2, 1)\n",
    "\n",
    "# add a subplot with no frame\n",
    "ax2=plt.subplot(222, frameon=False)\n",
    "\n",
    "# add a polar subplot\n",
    "plt.subplot(223, projection='polar')\n",
    "\n",
    "# add a red subplot that shares the x-axis with ax1\n",
    "plt.subplot(224, sharex=ax1, facecolor='red')\n",
    "\n",
    "# delete ax2 from the figure\n",
    "plt.delaxes(ax2)\n",
    "\n",
    "# add ax2 to the figure again\n",
    "plt.subplot(ax2)"
   ]
  },
  {
   "cell_type": "code",
   "execution_count": 110,
   "metadata": {},
   "outputs": [
    {
     "data": {
      "text/plain": [
       "<Figure size 720x288 with 0 Axes>"
      ]
     },
     "execution_count": 110,
     "metadata": {},
     "output_type": "execute_result"
    },
    {
     "data": {
      "text/plain": [
       "<Figure size 720x288 with 0 Axes>"
      ]
     },
     "metadata": {},
     "output_type": "display_data"
    }
   ],
   "source": [
    "plt.figure(figsize=(10,4))\n",
    "plt.subplot(1,2,1); df.col1.value_counts().plot(kind='barh',color=['C0','C1']); plt.title('title1')\n",
    "plt.subplot(1,2,2); df.col2.value_counts().plot(kind='barh',color=['C2','C3']); plt.title('title2')\n",
    "plt.subplot(1,2,1); df.col1.value_counts().plot(kind='pie',colors=['C0','C1']); plt.title('title1')\n"
   ]
  },
  {
   "cell_type": "code",
   "execution_count": null,
   "metadata": {},
   "outputs": [],
   "source": [
    "#If to many levels of stacking and when u do a bar graph the x axis labels are 2 levelled:\n",
    "byage2 = byage.unstack().drop(\"Col\",axis=1).unstack()\n",
    "byage2.columns = ['No','Yes'] # To clear and rename columns\n",
    "byage2.columns.name = 'smoker'\n",
    "byage2.plot(kind = 'bar')"
   ]
  },
  {
   "cell_type": "code",
   "execution_count": 23,
   "metadata": {},
   "outputs": [
    {
     "data": {
      "text/plain": [
       "30    73479\n",
       "60    15387\n",
       "20    10661\n",
       "40    10229\n",
       "70     7826\n",
       "50     5053\n",
       "Name: Speed_limit, dtype: int64"
      ]
     },
     "execution_count": 23,
     "metadata": {},
     "output_type": "execute_result"
    }
   ],
   "source": [
    "acc_df.Speed_limit.value_counts()"
   ]
  },
  {
   "cell_type": "code",
   "execution_count": 24,
   "metadata": {},
   "outputs": [
    {
     "data": {
      "text/plain": [
       "Speed_limit  Accident_Severity\n",
       "20           1                       49\n",
       "             2                     1734\n",
       "             3                     8878\n",
       "30           1                      567\n",
       "             2                    13009\n",
       "             3                    59903\n",
       "40           1                      169\n",
       "             2                     2104\n",
       "             3                     7956\n",
       "50           1                      139\n",
       "             2                     1017\n",
       "             3                     3897\n",
       "60           1                      542\n",
       "             2                     3950\n",
       "             3                    10895\n",
       "70           1                      205\n",
       "             2                     1351\n",
       "             3                     6270\n",
       "Name: Number_of_Casualties, dtype: int64"
      ]
     },
     "execution_count": 24,
     "metadata": {},
     "output_type": "execute_result"
    }
   ],
   "source": [
    "speed_acc_classify = acc_df.groupby(['Speed_limit','Accident_Severity'])['Number_of_Casualties'].count()\n",
    "speed_acc_classify"
   ]
  },
  {
   "cell_type": "code",
   "execution_count": 25,
   "metadata": {},
   "outputs": [
    {
     "name": "stdout",
     "output_type": "stream",
     "text": [
      "[Unstacking]\n",
      "Accident_Severity    1      2      3\n",
      "Speed_limit                         \n",
      "20                  49   1734   8878\n",
      "30                 567  13009  59903\n",
      "40                 169   2104   7956\n",
      "50                 139   1017   3897\n",
      "60                 542   3950  10895\n",
      "70                 205   1351   6270\n"
     ]
    },
    {
     "data": {
      "image/png": "[encoded data removed]",
      "text/plain": [
       "<Figure size 432x288 with 1 Axes>"
      ]
     },
     "metadata": {
      "needs_background": "light"
     },
     "output_type": "display_data"
    }
   ],
   "source": [
    "print(\"[Unstacking]\")\n",
    "speed_severitycasesCount = speed_acc_classify.unstack()\n",
    "print(speed_severitycasesCount)\n",
    "\n",
    "speed_severitycasesCount.plot(kind = 'bar', title = 'by Speed_limit, Accident_Severity',stacked=True)\n",
    "plt.ylabel('Number_of_Casualties')\n",
    "plt.show()"
   ]
  },
  {
   "cell_type": "code",
   "execution_count": 26,
   "metadata": {},
   "outputs": [
    {
     "data": {
      "text/plain": [
       "array([   49,  1734,  8878,   567, 13009, 59903,   169,  2104,  7956,\n",
       "         139,  1017,  3897,   542,  3950, 10895,   205,  1351,  6270],\n",
       "      dtype=int64)"
      ]
     },
     "execution_count": 26,
     "metadata": {},
     "output_type": "execute_result"
    }
   ],
   "source": [
    "speed_acc_classify.values"
   ]
  },
  {
   "cell_type": "code",
   "execution_count": 27,
   "metadata": {},
   "outputs": [
    {
     "data": {
      "text/plain": [
       "Day_of_Week  Accident_Severity\n",
       "1            1                      256\n",
       "             2                     2903\n",
       "             3                    10642\n",
       "2            1                      251\n",
       "             2                     3235\n",
       "             3                    14254\n",
       "3            1                      216\n",
       "             2                     3322\n",
       "             3                    14412\n",
       "4            1                      201\n",
       "             2                     3397\n",
       "             3                    14799\n",
       "5            1                      218\n",
       "             2                     3413\n",
       "             3                    15025\n",
       "6            1                      245\n",
       "             2                     3679\n",
       "             3                    16097\n",
       "7            1                      284\n",
       "             2                     3216\n",
       "             3                    12570\n",
       "Name: Number_of_Casualties, dtype: int64"
      ]
     },
     "execution_count": 27,
     "metadata": {},
     "output_type": "execute_result"
    }
   ],
   "source": [
    "#Day of week\n",
    "#1 -> Sunday\n",
    "#2 -> Monday\n",
    "#.\n",
    "#.\n",
    "#7 -> Saturday\n",
    "\n",
    "#Based on Day of the Week\n",
    "acc_df['Day_of_Week']\n",
    "dow_acc_classify = acc_df.groupby(['Day_of_Week', 'Accident_Severity'])['Number_of_Casualties'].count()\n",
    "dow_acc_classify"
   ]
  },
  {
   "cell_type": "code",
   "execution_count": 28,
   "metadata": {},
   "outputs": [
    {
     "name": "stdout",
     "output_type": "stream",
     "text": [
      "[Unstacking]\n",
      "Accident_Severity    1     2      3\n",
      "Day_of_Week                        \n",
      "1                  256  2903  10642\n",
      "2                  251  3235  14254\n",
      "3                  216  3322  14412\n",
      "4                  201  3397  14799\n",
      "5                  218  3413  15025\n",
      "6                  245  3679  16097\n",
      "7                  284  3216  12570\n"
     ]
    },
    {
     "data": {
      "image/png": "[encoded data removed]",
      "text/plain": [
       "<Figure size 432x288 with 1 Axes>"
      ]
     },
     "metadata": {
      "needs_background": "light"
     },
     "output_type": "display_data"
    }
   ],
   "source": [
    "print(\"[Unstacking]\")\n",
    "dow_severitycasesCount = dow_acc_classify.unstack()\n",
    "print(dow_severitycasesCount)\n",
    "\n",
    "dow_severitycasesCount.plot(kind = 'bar', title = 'by day_of_the_week, Accident_Severity')\n",
    "plt.ylabel('Number_of_Casualties')\n",
    "plt.show()"
   ]
  },
  {
   "cell_type": "code",
   "execution_count": 29,
   "metadata": {},
   "outputs": [
    {
     "data": {
      "text/plain": [
       "17:00    1154\n",
       "18:00    1093\n",
       "17:30    1086\n",
       "16:00    1069\n",
       "15:30    1050\n",
       "         ... \n",
       "03:03       3\n",
       "05:34       3\n",
       "03:26       2\n",
       "03:56       2\n",
       "04:31       2\n",
       "Name: Time, Length: 1438, dtype: int64"
      ]
     },
     "execution_count": 29,
     "metadata": {},
     "output_type": "execute_result"
    }
   ],
   "source": [
    "acc_df['Time']\n",
    "time_acc_classify = acc_df.groupby(['Time', 'Accident_Severity'])['Number_of_Casualties'].count()\n",
    "acc_df['Time'].value_counts()\n",
    "## USE SCATTER PLOT\n",
    "#df['timeofday'] = df['Time'].dt.hour\n",
    "# acc_df.Time.scatter('')"
   ]
  },
  {
   "cell_type": "code",
   "execution_count": 30,
   "metadata": {},
   "outputs": [
    {
     "name": "stdout",
     "output_type": "stream",
     "text": [
      "[Unstacking]\n",
      "Accident_Severity    1     2      3\n",
      "Time                               \n",
      "00:01              3.0  37.0  117.0\n",
      "00:02              1.0   4.0   16.0\n",
      "00:03              1.0   5.0   14.0\n",
      "00:04              1.0   3.0   19.0\n",
      "00:05              2.0  16.0   59.0\n",
      "...                ...   ...    ...\n",
      "23:55              3.0  18.0   62.0\n",
      "23:56              NaN   8.0   26.0\n",
      "23:57              1.0  10.0   11.0\n",
      "23:58              1.0   2.0   13.0\n",
      "23:59              NaN   7.0   13.0\n",
      "\n",
      "[1438 rows x 3 columns]\n"
     ]
    },
    {
     "data": {
      "image/png": "[encoded data removed]",
      "text/plain": [
       "<Figure size 432x288 with 1 Axes>"
      ]
     },
     "metadata": {
      "needs_background": "light"
     },
     "output_type": "display_data"
    }
   ],
   "source": [
    "print(\"[Unstacking]\")\n",
    "time_severitycasesCount = time_acc_classify.unstack()\n",
    "print(time_severitycasesCount)\n",
    "\n",
    "time_severitycasesCount.plot(kind = 'bar', title = 'by Time_of_the_day, Accident_Severity')\n",
    "plt.ylabel('Number_of_Casualties')\n",
    "plt.show()"
   ]
  },
  {
   "cell_type": "code",
   "execution_count": 31,
   "metadata": {},
   "outputs": [],
   "source": [
    "#Light Condition\n",
    "# 1  Daylight\n",
    "# 4  Darkness - Lights Lit\n",
    "# 5  Darkness - Lights Unlit\n",
    "# 6  Darkness - no lighting\n",
    "# 7  Darknedd - lighting unknown\n",
    "# -1 Data missing or out of range\n",
    "\n"
   ]
  },
  {
   "cell_type": "code",
   "execution_count": 32,
   "metadata": {},
   "outputs": [
    {
     "data": {
      "text/plain": [
       "1    88435\n",
       "4    24746\n",
       "6     6120\n",
       "7     2477\n",
       "5      857\n",
       "Name: Light_Conditions, dtype: int64"
      ]
     },
     "execution_count": 32,
     "metadata": {},
     "output_type": "execute_result"
    }
   ],
   "source": [
    "acc_df['Light_Conditions'].value_counts()\n"
   ]
  },
  {
   "cell_type": "code",
   "execution_count": 33,
   "metadata": {},
   "outputs": [
    {
     "data": {
      "text/plain": [
       "Light_Conditions  Accident_Severity\n",
       "1                 1                      974\n",
       "                  2                    16092\n",
       "                  3                    71369\n",
       "4                 1                      348\n",
       "                  2                     4908\n",
       "                  3                    19490\n",
       "5                 1                       24\n",
       "                  2                      186\n",
       "                  3                      647\n",
       "6                 1                      301\n",
       "                  2                     1597\n",
       "                  3                     4222\n",
       "7                 1                       24\n",
       "                  2                      382\n",
       "                  3                     2071\n",
       "Name: Number_of_Casualties, dtype: int64"
      ]
     },
     "execution_count": 33,
     "metadata": {},
     "output_type": "execute_result"
    }
   ],
   "source": [
    "#Based on Light conditions\n",
    "acc_df['Light_Conditions']\n",
    "light_acc_classify = acc_df.groupby(['Light_Conditions', 'Accident_Severity'])['Number_of_Casualties'].count()\n",
    "light_acc_classify"
   ]
  },
  {
   "cell_type": "code",
   "execution_count": 67,
   "metadata": {},
   "outputs": [],
   "source": [
    "# light_labels = {1: \"Daylight\",\n",
    "#                 4: \"Darkness lights lit\",\n",
    "#                 5: \"Darkness lights unlit\",\n",
    "#                 6: \"Darkness - no lighting\",\n",
    "#                 7: \"Darkness - lighting unknown\",\n",
    "#                 -1: \"Data missing or out of range\"\n",
    "#                }\n",
    "\n"
   ]
  },
  {
   "cell_type": "code",
   "execution_count": 73,
   "metadata": {},
   "outputs": [
    {
     "name": "stdout",
     "output_type": "stream",
     "text": [
      "Accident_Severity    1      2      3\n",
      "Light_Conditions                    \n",
      "1                  974  16092  71369\n",
      "4                  348   4908  19490\n",
      "5                   24    186    647\n",
      "6                  301   1597   4222\n",
      "7                   24    382   2071\n"
     ]
    },
    {
     "data": {
      "image/png": "[encoded data removed]",
      "text/plain": [
       "<Figure size 432x288 with 1 Axes>"
      ]
     },
     "metadata": {
      "needs_background": "light"
     },
     "output_type": "display_data"
    }
   ],
   "source": [
    "import seaborn as sns\n",
    "light_labels = [\"Daylight\", \"Darkness lights lit\", \"Darkness lights unlit\", \"Darkness - no lighting\", \"Darkness - lighting unknown\", \"Data missing or out of range\"]\n",
    "light_severitycasesCount = light_acc_classify.unstack()\n",
    "print(light_severitycasesCount)\n",
    "wplot = sns.countplot(x=\"Light_Conditions\",data=acc_df, hue='Accident_Severity')\n",
    "wplot.set_xticklabels(light_labels, rotation=40, ha=\"right\")\n",
    "wplot.legend(['Fatal','Serious','Slight'])\n",
    "plt.show()"
   ]
  },
  {
   "cell_type": "code",
   "execution_count": null,
   "metadata": {},
   "outputs": [],
   "source": []
  },
  {
   "cell_type": "code",
   "execution_count": 35,
   "metadata": {},
   "outputs": [
    {
     "name": "stdout",
     "output_type": "stream",
     "text": [
      "[Unstacking]\n",
      "Accident_Severity    1      2      3\n",
      "Light_Conditions                    \n",
      "1                  974  16092  71369\n",
      "4                  348   4908  19490\n",
      "5                   24    186    647\n",
      "6                  301   1597   4222\n",
      "7                   24    382   2071\n"
     ]
    },
    {
     "data": {
      "image/png": "[encoded data removed]",
      "text/plain": [
       "<Figure size 432x288 with 1 Axes>"
      ]
     },
     "metadata": {
      "needs_background": "light"
     },
     "output_type": "display_data"
    }
   ],
   "source": [
    "print(\"[Unstacking]\")\n",
    "light_severitycasesCount = light_acc_classify.unstack()\n",
    "print(light_severitycasesCount)\n",
    "\n",
    "light_severitycasesCount.plot(kind = 'bar', title = 'by Light_Conditions, Accident_Severity')\n",
    "plt.ylabel('Number_of_Casualties')\n",
    "plt.show()"
   ]
  },
  {
   "cell_type": "code",
   "execution_count": 26,
   "metadata": {},
   "outputs": [],
   "source": [
    "#Light Condition\n",
    "# 1  Daylight\n",
    "# 4  Darkness - Lights Lit\n",
    "# 5  Darkness - Lights Unlit\n",
    "# 6  Darkness - no lighting\n",
    "# 7  Darknedd - lighting unknown\n",
    "# -1 Data missing or out of range\n",
    "\n"
   ]
  },
  {
   "cell_type": "code",
   "execution_count": 28,
   "metadata": {},
   "outputs": [
    {
     "data": {
      "text/plain": [
       "Weather_Conditions  Accident_Severity\n",
       "-1                  2                        1\n",
       "                    3                       18\n",
       " 1                  1                     1370\n",
       "                    2                    19218\n",
       "                    3                    78633\n",
       " 2                  1                      161\n",
       "                    2                     2300\n",
       "                    3                    10328\n",
       " 3                  1                       12\n",
       "                    2                      158\n",
       "                    3                      905\n",
       " 4                  1                       27\n",
       "                    2                      229\n",
       "                    3                      878\n",
       " 5                  1                       30\n",
       "                    2                      259\n",
       "                    3                      988\n",
       " 6                  1                        2\n",
       "                    2                       64\n",
       "                    3                      336\n",
       " 7                  1                       21\n",
       "                    2                       97\n",
       "                    3                      331\n",
       " 8                  1                       21\n",
       "                    2                      384\n",
       "                    3                     2198\n",
       " 9                  1                       27\n",
       "                    2                      455\n",
       "                    3                     3184\n",
       "Name: Number_of_Casualties, dtype: int64"
      ]
     },
     "execution_count": 28,
     "metadata": {},
     "output_type": "execute_result"
    }
   ],
   "source": [
    "\n",
    "#Based on Weather conditions\n",
    "acc_df['Weather_Conditions']\n",
    "weather_acc_classify = acc_df.groupby(['Weather_Conditions', 'Accident_Severity'])['Number_of_Casualties'].count()\n",
    "weather_acc_classify"
   ]
  },
  {
   "cell_type": "code",
   "execution_count": 29,
   "metadata": {},
   "outputs": [
    {
     "name": "stdout",
     "output_type": "stream",
     "text": [
      "[Unstacking]\n",
      "Accident_Severity        1        2        3\n",
      "Weather_Conditions                          \n",
      "-1                     NaN      1.0     18.0\n",
      " 1                  1370.0  19218.0  78633.0\n",
      " 2                   161.0   2300.0  10328.0\n",
      " 3                    12.0    158.0    905.0\n",
      " 4                    27.0    229.0    878.0\n",
      " 5                    30.0    259.0    988.0\n",
      " 6                     2.0     64.0    336.0\n",
      " 7                    21.0     97.0    331.0\n",
      " 8                    21.0    384.0   2198.0\n",
      " 9                    27.0    455.0   3184.0\n"
     ]
    },
    {
     "data": {
      "image/png": "[encoded data removed]",
      "text/plain": [
       "<Figure size 432x288 with 1 Axes>"
      ]
     },
     "metadata": {
      "needs_background": "light"
     },
     "output_type": "display_data"
    }
   ],
   "source": [
    "print(\"[Unstacking]\")\n",
    "weather_severitycasesCount = weather_acc_classify.unstack()\n",
    "print(weather_severitycasesCount)\n",
    "\n",
    "weather_severitycasesCount.plot(kind = 'bar', title = 'by Weather_Conditions, Accident_Severity')\n",
    "plt.ylabel('Number_of_Casualties')\n",
    "plt.show()"
   ]
  },
  {
   "cell_type": "code",
   "execution_count": 30,
   "metadata": {},
   "outputs": [],
   "source": [
    "# code\tlabel\n",
    "# 1\tFine no high winds\n",
    "# 2\tRaining no high winds\n",
    "# 3\tSnowing no high winds\n",
    "# 4\tFine + high winds\n",
    "# 5\tRaining + high winds\n",
    "# 6\tSnowing + high winds\n",
    "# 7\tFog or mist\n",
    "# 8\tOther\n",
    "# 9\tUnknown\n",
    "# -1\tData missing or out of range"
   ]
  },
  {
   "cell_type": "code",
   "execution_count": 31,
   "metadata": {},
   "outputs": [
    {
     "data": {
      "text/plain": [
       "Road_Surface_Conditions  Accident_Severity\n",
       "-1                       2                      114\n",
       "                         3                     1109\n",
       " 1                       1                     1198\n",
       "                         2                    17188\n",
       "                         3                    72160\n",
       " 2                       1                      452\n",
       "                         2                     5448\n",
       "                         3                    22315\n",
       " 3                       1                        7\n",
       "                         2                      159\n",
       "                         3                      933\n",
       " 4                       1                       12\n",
       "                         2                      229\n",
       "                         3                     1176\n",
       " 5                       1                        2\n",
       "                         2                       27\n",
       "                         3                      106\n",
       "Name: Number_of_Casualties, dtype: int64"
      ]
     },
     "execution_count": 31,
     "metadata": {},
     "output_type": "execute_result"
    }
   ],
   "source": [
    "#Based on Road_Surface_Conditions conditions\n",
    "acc_df['Road_Surface_Conditions']\n",
    "road_acc_classify = acc_df.groupby(['Road_Surface_Conditions', 'Accident_Severity'])['Number_of_Casualties'].count()\n",
    "road_acc_classify"
   ]
  },
  {
   "cell_type": "code",
   "execution_count": 32,
   "metadata": {},
   "outputs": [
    {
     "name": "stdout",
     "output_type": "stream",
     "text": [
      "[Unstacking]\n",
      "Accident_Severity             1        2        3\n",
      "Road_Surface_Conditions                          \n",
      "-1                          NaN    114.0   1109.0\n",
      " 1                       1198.0  17188.0  72160.0\n",
      " 2                        452.0   5448.0  22315.0\n",
      " 3                          7.0    159.0    933.0\n",
      " 4                         12.0    229.0   1176.0\n",
      " 5                          2.0     27.0    106.0\n"
     ]
    },
    {
     "data": {
      "image/png": "[encoded data removed]",
      "text/plain": [
       "<Figure size 432x288 with 1 Axes>"
      ]
     },
     "metadata": {
      "needs_background": "light"
     },
     "output_type": "display_data"
    }
   ],
   "source": [
    "print(\"[Unstacking]\")\n",
    "road_severitycasesCount = road_acc_classify.unstack()\n",
    "print(road_severitycasesCount)\n",
    "\n",
    "road_severitycasesCount.plot(kind = 'bar', title = 'by Road_Surface_Conditions, Accident_Severity')\n",
    "plt.ylabel('Number_of_Casualties')\n",
    "plt.show()"
   ]
  },
  {
   "cell_type": "code",
   "execution_count": 33,
   "metadata": {},
   "outputs": [],
   "source": [
    "# code\tlabel\n",
    "# 1\tDry\n",
    "# 2\tWet or damp\n",
    "# 3\tSnow\n",
    "# 4\tFrost or ice\n",
    "# 5\tFlood over 3cm. deep\n",
    "# 6\tOil or diesel\n",
    "# 7\tMud\n",
    "# -1\tData missing or out of range"
   ]
  },
  {
   "cell_type": "code",
   "execution_count": 34,
   "metadata": {},
   "outputs": [
    {
     "data": {
      "text/plain": [
       "Urban_or_Rural_Area  Accident_Severity\n",
       "-1                   3                        1\n",
       " 1                   1                      635\n",
       "                     2                    14243\n",
       "                     3                    67705\n",
       " 2                   1                     1035\n",
       "                     2                     8911\n",
       "                     3                    30050\n",
       " 3                   1                        1\n",
       "                     2                       11\n",
       "                     3                       43\n",
       "Name: Number_of_Casualties, dtype: int64"
      ]
     },
     "execution_count": 34,
     "metadata": {},
     "output_type": "execute_result"
    }
   ],
   "source": [
    "#Based on Area - Urban or Rural \n",
    "acc_df['Urban_or_Rural_Area']\n",
    "rurban_acc_classify = acc_df.groupby(['Urban_or_Rural_Area', 'Accident_Severity'])['Number_of_Casualties'].count()\n",
    "rurban_acc_classify"
   ]
  },
  {
   "cell_type": "code",
   "execution_count": 35,
   "metadata": {},
   "outputs": [
    {
     "name": "stdout",
     "output_type": "stream",
     "text": [
      "[Unstacking]\n",
      "Accident_Severity         1        2        3\n",
      "Urban_or_Rural_Area                          \n",
      "-1                      NaN      NaN      1.0\n",
      " 1                    635.0  14243.0  67705.0\n",
      " 2                   1035.0   8911.0  30050.0\n",
      " 3                      1.0     11.0     43.0\n"
     ]
    },
    {
     "data": {
      "image/png": "[encoded data removed]",
      "text/plain": [
       "<Figure size 432x288 with 1 Axes>"
      ]
     },
     "metadata": {
      "needs_background": "light"
     },
     "output_type": "display_data"
    }
   ],
   "source": [
    "print(\"[Unstacking]\")\n",
    "rurban_severitycasesCount = rurban_acc_classify.unstack()\n",
    "print(rurban_severitycasesCount)\n",
    "\n",
    "rurban_severitycasesCount.plot(kind = 'bar', title = 'by Urban_or_Rural_Area, Accident_Severity')\n",
    "plt.ylabel('Number_of_Casualties')\n",
    "plt.show()"
   ]
  },
  {
   "cell_type": "code",
   "execution_count": 36,
   "metadata": {},
   "outputs": [],
   "source": [
    "# code\tlabel\n",
    "# 1\tUrban\n",
    "# 2\tRural\n",
    "# 3\tUnallocated"
   ]
  },
  {
   "cell_type": "code",
   "execution_count": null,
   "metadata": {},
   "outputs": [],
   "source": []
  },
  {
   "cell_type": "code",
   "execution_count": 37,
   "metadata": {},
   "outputs": [
    {
     "data": {
      "text/plain": [
       "Road_Type  Accident_Severity\n",
       "1          1                       25\n",
       "           2                     1010\n",
       "           3                     6538\n",
       "2          1                       24\n",
       "           2                      560\n",
       "           3                     2782\n",
       "3          1                      349\n",
       "           2                     3300\n",
       "           3                    15824\n",
       "6          1                     1253\n",
       "           2                    17843\n",
       "           3                    69227\n",
       "7          1                       11\n",
       "           2                      210\n",
       "           3                     1287\n",
       "9          1                        9\n",
       "           2                      242\n",
       "           3                     2141\n",
       "Name: Number_of_Casualties, dtype: int64"
      ]
     },
     "execution_count": 37,
     "metadata": {},
     "output_type": "execute_result"
    }
   ],
   "source": [
    "#Based on Road Type \n",
    "acc_df['Road_Type']\n",
    "rtype_acc_classify = acc_df.groupby(['Road_Type', 'Accident_Severity'])['Number_of_Casualties'].count()\n",
    "rtype_acc_classify"
   ]
  },
  {
   "cell_type": "code",
   "execution_count": 38,
   "metadata": {},
   "outputs": [
    {
     "name": "stdout",
     "output_type": "stream",
     "text": [
      "[Unstacking]\n",
      "Accident_Severity     1      2      3\n",
      "Road_Type                            \n",
      "1                    25   1010   6538\n",
      "2                    24    560   2782\n",
      "3                   349   3300  15824\n",
      "6                  1253  17843  69227\n",
      "7                    11    210   1287\n",
      "9                     9    242   2141\n"
     ]
    },
    {
     "data": {
      "image/png": "[encoded data removed]",
      "text/plain": [
       "<Figure size 432x288 with 1 Axes>"
      ]
     },
     "metadata": {
      "needs_background": "light"
     },
     "output_type": "display_data"
    }
   ],
   "source": [
    "print(\"[Unstacking]\")\n",
    "rtype_severitycasesCount = rtype_acc_classify.unstack()\n",
    "print(rtype_severitycasesCount)\n",
    "\n",
    "rtype_severitycasesCount.plot(kind = 'bar', title = 'by Road_Type, Accident_Severity')\n",
    "plt.ylabel('Number_of_Casualties')\n",
    "plt.show()"
   ]
  },
  {
   "cell_type": "code",
   "execution_count": 39,
   "metadata": {},
   "outputs": [],
   "source": [
    "# code\tlabel\n",
    "# 1\tRoundabout\n",
    "# 2\tOne way street\n",
    "# 3\tDual carriageway\n",
    "# 6\tSingle carriageway\n",
    "# 7\tSlip road\n",
    "# 9\tUnknown\n",
    "# 12\tOne way street/Slip road\n",
    "# -1\tData missing or out of range"
   ]
  },
  {
   "cell_type": "code",
   "execution_count": 40,
   "metadata": {},
   "outputs": [
    {
     "data": {
      "text/html": [
       "<div>\n",
       "<style scoped>\n",
       "    .dataframe tbody tr th:only-of-type {\n",
       "        vertical-align: middle;\n",
       "    }\n",
       "\n",
       "    .dataframe tbody tr th {\n",
       "        vertical-align: top;\n",
       "    }\n",
       "\n",
       "    .dataframe thead th {\n",
       "        text-align: right;\n",
       "    }\n",
       "</style>\n",
       "<table border=\"1\" class=\"dataframe\">\n",
       "  <thead>\n",
       "    <tr style=\"text-align: right;\">\n",
       "      <th></th>\n",
       "      <th>Accident_Index</th>\n",
       "      <th>Vehicle_Reference</th>\n",
       "      <th>Casualty_Reference</th>\n",
       "      <th>Casualty_Class</th>\n",
       "      <th>Sex_of_Casualty</th>\n",
       "      <th>Age_of_Casualty</th>\n",
       "      <th>Age_Band_of_Casualty</th>\n",
       "      <th>Casualty_Severity</th>\n",
       "      <th>Pedestrian_Location</th>\n",
       "      <th>Pedestrian_Movement</th>\n",
       "      <th>Car_Passenger</th>\n",
       "      <th>Bus_or_Coach_Passenger</th>\n",
       "      <th>Pedestrian_Road_Maintenance_Worker</th>\n",
       "      <th>Casualty_Type</th>\n",
       "      <th>Casualty_Home_Area_Type</th>\n",
       "      <th>Casualty_IMD_Decile</th>\n",
       "    </tr>\n",
       "  </thead>\n",
       "  <tbody>\n",
       "    <tr>\n",
       "      <th>0</th>\n",
       "      <td>2018010080971</td>\n",
       "      <td>1</td>\n",
       "      <td>1</td>\n",
       "      <td>2</td>\n",
       "      <td>2</td>\n",
       "      <td>50</td>\n",
       "      <td>8</td>\n",
       "      <td>3</td>\n",
       "      <td>0</td>\n",
       "      <td>0</td>\n",
       "      <td>2</td>\n",
       "      <td>0</td>\n",
       "      <td>0</td>\n",
       "      <td>9</td>\n",
       "      <td>1</td>\n",
       "      <td>8</td>\n",
       "    </tr>\n",
       "    <tr>\n",
       "      <th>1</th>\n",
       "      <td>2018010080971</td>\n",
       "      <td>2</td>\n",
       "      <td>2</td>\n",
       "      <td>1</td>\n",
       "      <td>1</td>\n",
       "      <td>48</td>\n",
       "      <td>8</td>\n",
       "      <td>3</td>\n",
       "      <td>0</td>\n",
       "      <td>0</td>\n",
       "      <td>0</td>\n",
       "      <td>0</td>\n",
       "      <td>0</td>\n",
       "      <td>8</td>\n",
       "      <td>1</td>\n",
       "      <td>1</td>\n",
       "    </tr>\n",
       "  </tbody>\n",
       "</table>\n",
       "</div>"
      ],
      "text/plain": [
       "  Accident_Index  Vehicle_Reference  Casualty_Reference  Casualty_Class  \\\n",
       "0  2018010080971                  1                   1               2   \n",
       "1  2018010080971                  2                   2               1   \n",
       "\n",
       "   Sex_of_Casualty  Age_of_Casualty  Age_Band_of_Casualty  Casualty_Severity  \\\n",
       "0                2               50                     8                  3   \n",
       "1                1               48                     8                  3   \n",
       "\n",
       "   Pedestrian_Location  Pedestrian_Movement  Car_Passenger  \\\n",
       "0                    0                    0              2   \n",
       "1                    0                    0              0   \n",
       "\n",
       "   Bus_or_Coach_Passenger  Pedestrian_Road_Maintenance_Worker  Casualty_Type  \\\n",
       "0                       0                                   0              9   \n",
       "1                       0                                   0              8   \n",
       "\n",
       "   Casualty_Home_Area_Type  Casualty_IMD_Decile  \n",
       "0                        1                    8  \n",
       "1                        1                    1  "
      ]
     },
     "execution_count": 40,
     "metadata": {},
     "output_type": "execute_result"
    }
   ],
   "source": [
    "cas_df[cas_df['Accident_Index'] == '2018010080971']"
   ]
  },
  {
   "cell_type": "code",
   "execution_count": null,
   "metadata": {},
   "outputs": [],
   "source": []
  },
  {
   "cell_type": "code",
   "execution_count": null,
   "metadata": {},
   "outputs": [],
   "source": []
  },
  {
   "cell_type": "code",
   "execution_count": null,
   "metadata": {},
   "outputs": [],
   "source": []
  },
  {
   "cell_type": "code",
   "execution_count": null,
   "metadata": {},
   "outputs": [],
   "source": []
  },
  {
   "cell_type": "code",
   "execution_count": null,
   "metadata": {},
   "outputs": [],
   "source": []
  },
  {
   "cell_type": "code",
   "execution_count": null,
   "metadata": {},
   "outputs": [],
   "source": []
  },
  {
   "cell_type": "code",
   "execution_count": null,
   "metadata": {},
   "outputs": [],
   "source": []
  },
  {
   "cell_type": "code",
   "execution_count": 63,
   "metadata": {},
   "outputs": [
    {
     "data": {
      "text/plain": [
       "Accident_Index                                 2018010081589\n",
       "Location_Easting_OSGR                                 532590\n",
       "Location_Northing_OSGR                                179490\n",
       "Longitude                                          -0.091225\n",
       "Latitude                                             51.4988\n",
       "Police_Force                                               1\n",
       "Accident_Severity                                          3\n",
       "Number_of_Vehicles                                         2\n",
       "Number_of_Casualties                                       1\n",
       "Date                                              03/01/2018\n",
       "Day_of_Week                                                4\n",
       "Time                                                   14:04\n",
       "Local_Authority_(District)                                 8\n",
       "Local_Authority_(Highway)                          E09000028\n",
       "1st_Road_Class                                             3\n",
       "1st_Road_Number                                            2\n",
       "Road_Type                                                  9\n",
       "Speed_limit                                               20\n",
       "Junction_Detail                                           -1\n",
       "Junction_Control                                           2\n",
       "2nd_Road_Class                                             6\n",
       "2nd_Road_Number                                            0\n",
       "Pedestrian_Crossing-Human_Control                         -1\n",
       "Pedestrian_Crossing-Physical_Facilities                   -1\n",
       "Light_Conditions                                           1\n",
       "Weather_Conditions                                         8\n",
       "Road_Surface_Conditions                                    1\n",
       "Special_Conditions_at_Site                                -1\n",
       "Carriageway_Hazards                                        0\n",
       "Urban_or_Rural_Area                                        1\n",
       "Did_Police_Officer_Attend_Scene_of_Accident                2\n",
       "LSOA_of_Accident_Location                          E01003939\n",
       "Name: 135, dtype: object"
      ]
     },
     "execution_count": 63,
     "metadata": {},
     "output_type": "execute_result"
    }
   ],
   "source": [
    "acc_df[acc_df['Junction_Detail'] == -1].iloc[1,:]"
   ]
  },
  {
   "cell_type": "code",
   "execution_count": null,
   "metadata": {},
   "outputs": [],
   "source": []
  },
  {
   "cell_type": "code",
   "execution_count": null,
   "metadata": {},
   "outputs": [],
   "source": [
    "a = np.array(1,2,3)\n"
   ]
  },
  {
   "cell_type": "code",
   "execution_count": null,
   "metadata": {},
   "outputs": [],
   "source": [
    "pd.to_datetime(message['date'][0]).tz_localize('UTC').tz_convert('America/Los_Angeles')\n",
    "message['date'] = message['date'].apply(lambda s:pd.to_datetime(s).tz_localize('UTC').tz_convert('America/Los_Angeles'))\n",
    "message.date.min(), message.date.max()\n",
    "#We access data and members in pandas using dt\n",
    "message.date.dt.weekday_name.head()\n"
   ]
  },
  {
   "cell_type": "code",
   "execution_count": null,
   "metadata": {},
   "outputs": [],
   "source": [
    "%debug\n",
    " up\n",
    " print(acc_df)\n",
    " quit"
   ]
  }
 ],
 "metadata": {
  "kernelspec": {
   "display_name": "Python 3",
   "language": "python",
   "name": "python3"
  },
  "language_info": {
   "codemirror_mode": {
    "name": "ipython",
    "version": 3
   },
   "file_extension": ".py",
   "mimetype": "text/x-python",
   "name": "python",
   "nbconvert_exporter": "python",
   "pygments_lexer": "ipython3",
   "version": "3.7.5"
  }
 },
 "nbformat": 4,
 "nbformat_minor": 2
}
